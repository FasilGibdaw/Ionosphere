{
 "cells": [
  {
   "cell_type": "code",
   "execution_count": null,
   "metadata": {},
   "outputs": [],
   "source": [
    "import iri2016.profile as iri\n",
    "from datetime import datetime, timedelta\n",
    "from matplotlib.pyplot import figure, show\n",
    "\n",
    "time_start_stop = (datetime(2020, 6, 1, 0, 0, 0), datetime(2020, 6, 2))\n",
    "time_step = timedelta(minutes=30)\n",
    "alt_km_range = (100, 500, 10.)\n",
    "glat = 65\n",
    "glon = -147.5\n",
    "\n",
    "sim = iri.timeprofile(time_start_stop, time_step, alt_km_range, glat, glon)\n",
    "\n",
    "print(sim)"
   ]
  },
  {
   "cell_type": "code",
   "execution_count": null,
   "metadata": {},
   "outputs": [],
   "source": [
    "ax = figure().gca()\n",
    "ax.pcolormesh(sim.time, sim.alt_km, sim.ne.T, shading=\"nearest\")\n",
    "ax.set_title(\"Number Density\")\n",
    "ax.set_xlabel(\"time [UTC]\")\n",
    "ax.set_ylabel(\"altitude [km]\")"
   ]
  },
  {
   "cell_type": "code",
   "execution_count": null,
   "metadata": {},
   "outputs": [],
   "source": []
  }
 ],
 "metadata": {
  "kernelspec": {
   "display_name": "Python 3",
   "language": "python",
   "name": "python3"
  },
  "language_info": {
   "codemirror_mode": {
    "name": "ipython",
    "version": 3
   },
   "file_extension": ".py",
   "mimetype": "text/x-python",
   "name": "python",
   "nbconvert_exporter": "python",
   "pygments_lexer": "ipython3",
   "version": "3.8.5"
  }
 },
 "nbformat": 4,
 "nbformat_minor": 4
}